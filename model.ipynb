{
 "cells": [
  {
   "cell_type": "code",
   "execution_count": null,
   "metadata": {
    "id": "lHS4R0_sllvZ"
   },
   "outputs": [],
   "source": [
    "import pickle\n",
    "import pandas as pd\n",
    "import numpy as np \n",
    "import itertools\n",
    "import keras\n",
    "from sklearn import metrics\n",
    "from sklearn.metrics import confusion_matrix\n",
    "from keras.preprocessing.image import ImageDataGenerator, img_to_array, load_img \n",
    "from keras.models import Sequential \n",
    "from keras import optimizers\n",
    "from keras.preprocessing import image\n",
    "from keras.layers import Dropout, Flatten, Dense,Conv2D, MaxPool2D\n",
    "from keras import applications  \n",
    "from keras.utils.np_utils import to_categorical  \n",
    "import matplotlib.pyplot as plt \n",
    "import matplotlib.image as mpimg\n",
    "%matplotlib inline\n",
    "import math  "
   ]
  },
  {
   "cell_type": "code",
   "execution_count": null,
   "metadata": {
    "id": "uwyk4FOC-eh_"
   },
   "outputs": [],
   "source": [
    "pickle_in = open(\"train_images.pickle\",\"rb\") \n",
    "train_images = pickle.load(pickle_in)"
   ]
  },
  {
   "cell_type": "code",
   "execution_count": null,
   "metadata": {
    "id": "Rq1kKXba-u5D"
   },
   "outputs": [],
   "source": [
    "pickle_in = open(\"train_labels.pickle\",\"rb\")\n",
    "train_labels = pickle.load(pickle_in)"
   ]
  },
  {
   "cell_type": "code",
   "execution_count": null,
   "metadata": {
    "id": "l37k1Yn6-vE6"
   },
   "outputs": [],
   "source": [
    "pickle_in = open(\"validation_images.pickle\",\"rb\")\n",
    "validation_images = pickle.load(pickle_in)"
   ]
  },
  {
   "cell_type": "code",
   "execution_count": null,
   "metadata": {
    "id": "lsCiVgvW-vM9"
   },
   "outputs": [],
   "source": [
    "pickle_in = open(\"validation_labels.pickle\",\"rb\")\n",
    "validation_labels = pickle.load(pickle_in)"
   ]
  },
  {
   "cell_type": "code",
   "execution_count": null,
   "metadata": {
    "id": "A-nxP9hz-vYM"
   },
   "outputs": [],
   "source": [
    "pickle_in = open(\"test_images.pickle\",\"rb\")\n",
    "test_images = pickle.load(pickle_in)"
   ]
  },
  {
   "cell_type": "code",
   "execution_count": null,
   "metadata": {
    "id": "V8yfcncG-6Ti"
   },
   "outputs": [],
   "source": [
    "pickle_in = open(\"test_labels.pickle\",\"rb\")\n",
    "test_labels = pickle.load(pickle_in)"
   ]
  },
  {
   "cell_type": "code",
   "execution_count": null,
   "metadata": {},
   "outputs": [],
   "source": [
    "print(train_images.shape)\n",
    "print(validation_images.shape)\n",
    "print(test_images.shape)"
   ]
  },
  {
   "cell_type": "code",
   "execution_count": null,
   "metadata": {
    "id": "WOiCpmsM_Afv"
   },
   "outputs": [],
   "source": [
    "train_labels = to_categorical(train_labels)\n",
    "print(train_labels.shape)"
   ]
  },
  {
   "cell_type": "code",
   "execution_count": null,
   "metadata": {},
   "outputs": [],
   "source": [
    "validation_labels = to_categorical(validation_labels)\n",
    "print(validation_labels.shape)"
   ]
  },
  {
   "cell_type": "code",
   "execution_count": null,
   "metadata": {
    "colab": {
     "base_uri": "https://localhost:8080/"
    },
    "id": "rwc5yzJi040g",
    "outputId": "e717585e-8b6d-4e66-c605-3fa1bafe6057"
   },
   "outputs": [],
   "source": [
    "vgg19 = keras.applications.vgg19\n",
    "conv_model = vgg19.VGG19(weights='imagenet', include_top=False, input_shape=(224,224,3))\n",
    "x = keras.layers.Flatten()(conv_model.output)\n",
    "x = keras.layers.Dense(100,activation=keras.layers.LeakyReLU(alpha=0.3))(x)\n",
    "x = keras.layers.Dropout(0.5)(x)\n",
    "x = keras.layers.Dense(50,activation=keras.layers.LeakyReLU(alpha=0.3))(x)\n",
    "x = keras.layers.Dropout(0.3)(x)\n",
    "predictions = keras.layers.Dense(3,activation='softmax')(x)\n",
    "full_model = keras.models.Model(inputs=conv_model.input,outputs=predictions)"
   ]
  },
  {
   "cell_type": "code",
   "execution_count": null,
   "metadata": {
    "colab": {
     "base_uri": "https://localhost:8080/"
    },
    "id": "5m49HdMk1vMe",
    "outputId": "e26b730e-3a36-4461-c413-24216c9b71db"
   },
   "outputs": [],
   "source": [
    "full_model.summary()"
   ]
  },
  {
   "cell_type": "code",
   "execution_count": null,
   "metadata": {
    "id": "Vs5HJyOEq-3R"
   },
   "outputs": [],
   "source": [
    "for layer in conv_model.layers:\n",
    "    layer.trainable = False"
   ]
  },
  {
   "cell_type": "code",
   "execution_count": null,
   "metadata": {
    "colab": {
     "base_uri": "https://localhost:8080/"
    },
    "id": "8hufYWw9rEMC",
    "outputId": "fbb38d24-f6a7-4752-c095-3508ff82f6dd"
   },
   "outputs": [],
   "source": [
    "full_model.summary()"
   ]
  },
  {
   "cell_type": "code",
   "execution_count": null,
   "metadata": {
    "id": "BTHUuplqWZjf"
   },
   "outputs": [],
   "source": [
    "full_model.compile(loss='categorical_crossentropy',\n",
    "              optimizer=optimizers.Adam(lr=1e-4),\n",
    "              metrics=['acc'])  "
   ]
  },
  {
   "cell_type": "code",
   "execution_count": null,
   "metadata": {
    "colab": {
     "base_uri": "https://localhost:8080/"
    },
    "id": "VYmQdovAWfBf",
    "outputId": "d9435f70-f5a4-4172-e666-18568921f6e4"
   },
   "outputs": [],
   "source": [
    "history = full_model.fit(train_images,train_labels,batch_size=32,epochs=7,validation_data=(validation_images,validation_labels))"
   ]
  },
  {
   "cell_type": "code",
   "execution_count": null,
   "metadata": {
    "colab": {
     "base_uri": "https://localhost:8080/"
    },
    "id": "euqziQvqAsAQ",
    "outputId": "50835dc8-451e-4bd4-eb0b-3dfe24e0a1c9"
   },
   "outputs": [],
   "source": [
    "full_model.evaluate(test_images,test_labels)"
   ]
  },
  {
   "cell_type": "code",
   "execution_count": null,
   "metadata": {
    "id": "8Ih9JGEWA2WA"
   },
   "outputs": [],
   "source": [
    "full_model.save('vgg19.h5')"
   ]
  },
  {
   "cell_type": "code",
   "execution_count": null,
   "metadata": {
    "id": "2AOtQAAvCCE1"
   },
   "outputs": [],
   "source": [
    "from keras.models import load_model"
   ]
  },
  {
   "cell_type": "code",
   "execution_count": null,
   "metadata": {
    "id": "OwJknbwCCkc8"
   },
   "outputs": [],
   "source": [
    "model = load_model('vgg19.h5',custom_objects={'LeakyReLU':keras.layers.LeakyReLU})"
   ]
  },
  {
   "cell_type": "code",
   "execution_count": null,
   "metadata": {
    "id": "mB1x67PFC2pG"
   },
   "outputs": [],
   "source": [
    "def prepare(filepath):\n",
    "    IMG_SIZE = 224  # 50 in txt-based\n",
    "    img_array = cv2.imread(filepath, cv2.IMREAD_COLOR)  # read in the image, convert to grayscale\n",
    "    new_array = cv2.resize(img_array, (IMG_SIZE, IMG_SIZE))  # resize image to match model's expected sizing\n",
    "    return new_array.reshape(-1, IMG_SIZE, IMG_SIZE, 3)"
   ]
  },
  {
   "cell_type": "code",
   "execution_count": null,
   "metadata": {
    "id": "PTlAboP7C8O9"
   },
   "outputs": [],
   "source": [
    "prediction = np.argmax(model.predict([prepare('Figure.jpg')]),axis=-1)"
   ]
  },
  {
   "cell_type": "code",
   "execution_count": null,
   "metadata": {
    "id": "hRT3wyomDSp0"
   },
   "outputs": [],
   "source": [
    "CATEGORIES = [\"Basket\", \"Coin\", \"Figure\"]"
   ]
  },
  {
   "cell_type": "code",
   "execution_count": null,
   "metadata": {
    "colab": {
     "base_uri": "https://localhost:8080/"
    },
    "id": "CksXehOyDOjU",
    "outputId": "41e3acaf-b038-42be-e60d-22ce8ff44041"
   },
   "outputs": [],
   "source": [
    "print(CATEGORIES[int(prediction)])"
   ]
  },
  {
   "cell_type": "code",
   "execution_count": null,
   "metadata": {
    "colab": {
     "base_uri": "https://localhost:8080/"
    },
    "id": "AYASMf8NoBZ1",
    "outputId": "6e0f6a4e-1b87-43af-b181-ee51c2497187"
   },
   "outputs": [],
   "source": [
    "print('test images', test_images)\n",
    "preds = np.round(model.predict(test_images),0) \n",
    "#to fit them into classification metrics and confusion metrics, some additional modificaitions are required\n",
    "print('rounded test_labels', preds)"
   ]
  },
  {
   "cell_type": "code",
   "execution_count": null,
   "metadata": {
    "colab": {
     "base_uri": "https://localhost:8080/"
    },
    "id": "D-xqTVVMoFhU",
    "outputId": "a52823f5-b746-4d1a-e35d-47e9925db334"
   },
   "outputs": [],
   "source": [
    "animals = ['Basket', 'Coin', 'Figure']\n",
    "classification_metrics = metrics.classification_report(test_labels, preds, target_names=animals )\n",
    "print(classification_metrics)"
   ]
  },
  {
   "cell_type": "code",
   "execution_count": null,
   "metadata": {
    "id": "Kq_JJqLV3XCw"
   },
   "outputs": [],
   "source": [
    "categorical_test_labels = to_categorical(categorical_test_labels)\n",
    "categorical_preds = to_categorical(categorical_preds)"
   ]
  },
  {
   "cell_type": "code",
   "execution_count": null,
   "metadata": {
    "id": "ArvGDt-joWOo"
   },
   "outputs": [],
   "source": [
    "categorical_test_labels = pd.DataFrame(test_labels).idxmax(axis=1)\n",
    "categorical_preds = pd.DataFrame(preds).idxmax(axis=1)"
   ]
  },
  {
   "cell_type": "code",
   "execution_count": null,
   "metadata": {
    "id": "YGHRCkXeoZBf"
   },
   "outputs": [],
   "source": [
    "confusion_matrix= confusion_matrix(categorical_test_labels, categorical_preds)"
   ]
  },
  {
   "cell_type": "code",
   "execution_count": null,
   "metadata": {
    "id": "_z2cO-4GoeQ6"
   },
   "outputs": [],
   "source": [
    "def plot_confusion_matrix(cm, classes,\n",
    "             normalize=False,\n",
    "             title='Confusion matrix',\n",
    "             cmap=plt.cm.Blues):\n",
    "    #Add Normalization Option\n",
    "    '''prints pretty confusion metric with normalization option '''\n",
    "    if normalize:\n",
    "        cm = cm.astype('float') / cm.sum(axis=1)[:, np.newaxis]\n",
    "        print(\"Normalized confusion matrix\")\n",
    "    else:\n",
    "        print('Confusion matrix, without normalization')\n",
    "    \n",
    "#     print(cm)\n",
    "    \n",
    "    plt.imshow(cm, interpolation='nearest', cmap=cmap)\n",
    "    plt.title(title)\n",
    "    plt.colorbar()\n",
    "    tick_marks = np.arange(len(classes))\n",
    "    plt.xticks(tick_marks, classes, rotation=45)\n",
    "    plt.yticks(tick_marks, classes)\n",
    "    \n",
    "    fmt = '.2f' if normalize else 'd'\n",
    "    thresh = cm.max() / 2.\n",
    "    for i, j in itertools.product(range(cm.shape[0]), range(cm.shape[1])):\n",
    "        plt.text(j, i, format(cm[i, j], fmt), horizontalalignment=\"center\", color=\"white\" if cm[i, j] > thresh else \"black\")\n",
    "    \n",
    "    plt.tight_layout()\n",
    "    plt.ylabel('True label')\n",
    "    plt.xlabel('Predicted label')"
   ]
  },
  {
   "cell_type": "code",
   "execution_count": null,
   "metadata": {
    "colab": {
     "base_uri": "https://localhost:8080/",
     "height": 329
    },
    "id": "uKu-g9ANov7a",
    "outputId": "835a8518-a916-46ff-9033-086e581000ce"
   },
   "outputs": [],
   "source": [
    "plot_confusion_matrix(confusion_matrix, ['Basket', 'Coin', 'Figure'],normalize=True)"
   ]
  }
 ],
 "metadata": {
  "accelerator": "GPU",
  "colab": {
   "collapsed_sections": [],
   "name": "model.ipynb",
   "provenance": []
  },
  "kernelspec": {
   "display_name": "Python 3",
   "language": "python",
   "name": "python3"
  },
  "language_info": {
   "codemirror_mode": {
    "name": "ipython",
    "version": 3
   },
   "file_extension": ".py",
   "mimetype": "text/x-python",
   "name": "python",
   "nbconvert_exporter": "python",
   "pygments_lexer": "ipython3",
   "version": "3.6.10"
  }
 },
 "nbformat": 4,
 "nbformat_minor": 1
}
